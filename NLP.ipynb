{
 "cells": [
  {
   "cell_type": "markdown",
   "metadata": {},
   "source": [
    "# Capstone Project\n",
    "### Chatbot for Airbnb Messages to Common Queries\n",
    "\n",
    "\n",
    "\n",
    "\n",
    "\n",
    "\n",
    "#### 4. NLP and Modelling"
   ]
  },
  {
   "cell_type": "markdown",
   "metadata": {},
   "source": [
    "#pip install nltk\n",
    "#pip install sklearn\n",
    "#nltk.download()\n",
    "\n"
   ]
  },
  {
   "cell_type": "code",
   "execution_count": 6,
   "metadata": {},
   "outputs": [],
   "source": [
    "import pandas as pd\n",
    "\n",
    "from nltk import word_tokenize          \n",
    "from nltk.stem import WordNetLemmatizer \n",
    "class LemmaTokenizer(object):\n",
    "    def __init__(self):\n",
    "        self.wnl = WordNetLemmatizer()\n",
    "    def __call__(self, doc):\n",
    "        return [self.wnl.lemmatize(t) for t in word_tokenize(doc)]\n",
    "\n",
    "from sklearn.model_selection import train_test_split\n",
    "from sklearn.feature_extraction.text import CountVectorizer, TfidfVectorizer, TfidfTransformer\n",
    "from sklearn.pipeline import Pipeline\n",
    "\n",
    "from sklearn.naive_bayes import MultinomialNB\n",
    "from sklearn.linear_model import SGDClassifier, LogisticRegression\n",
    "\n",
    "from sklearn.metrics import classification_report\n",
    "from sklearn.metrics import accuracy_score, confusion_matrix\n",
    "import pickle\n",
    "import joblib"
   ]
  },
  {
   "cell_type": "code",
   "execution_count": 7,
   "metadata": {},
   "outputs": [],
   "source": [
    "questions = pd.read_csv('questionClassified.txt', delimiter='\\t', encoding=\"utf-8\")"
   ]
  },
  {
   "cell_type": "code",
   "execution_count": 8,
   "metadata": {},
   "outputs": [],
   "source": [
    "X = questions.body\n",
    "y = questions.classification\n",
    "X_train, X_test, y_train, y_test = train_test_split(X, y, test_size=0.3, random_state = 42)"
   ]
  },
  {
   "cell_type": "code",
   "execution_count": 9,
   "metadata": {},
   "outputs": [
    {
     "data": {
      "text/plain": [
       "['finalized_model.sav']"
      ]
     },
     "execution_count": 9,
     "metadata": {},
     "output_type": "execute_result"
    }
   ],
   "source": [
    "#FINAL MODEL\n",
    "\n",
    "sgd = Pipeline([('vect', CountVectorizer(tokenizer=LemmaTokenizer())),\n",
    "                ('tfidf', TfidfTransformer()),\n",
    "                ('clf', SGDClassifier(loss='hinge', penalty='l2', alpha=1e-3, random_state=42, max_iter=5)),\n",
    "               ])\n",
    "\n",
    "model = sgd.fit(X, y)\n",
    "\n",
    "# save the model to disk\n",
    "filename = 'finalized_model.sav'\n",
    "joblib.dump(model, filename)\n"
   ]
  },
  {
   "cell_type": "code",
   "execution_count": null,
   "metadata": {},
   "outputs": [],
   "source": []
  },
  {
   "cell_type": "code",
   "execution_count": 10,
   "metadata": {},
   "outputs": [
    {
     "name": "stdout",
     "output_type": "stream",
     "text": [
      "accuracy 0.23690205011389523\n",
      "                         precision    recall  f1-score   support\n",
      "\n",
      "           access issue       0.00      0.00      0.00         6\n",
      "                address       0.00      0.00      0.00         8\n",
      "    airbnb policy japan       0.00      0.00      0.00         8\n",
      "             ammenities       0.00      0.00      0.00         9\n",
      "             appliances       0.00      0.00      0.00        10\n",
      "                   beds       0.00      0.00      0.00         6\n",
      "    building directions       0.00      0.00      0.00         4\n",
      "           cancellation       0.00      0.00      0.00         3\n",
      "       check in process       0.13      1.00      0.23        31\n",
      "      check out process       0.00      0.00      0.00         4\n",
      "                chinese       0.00      0.00      0.00         2\n",
      "               cleaning       0.00      0.00      0.00         1\n",
      "         cleaning issue       0.00      0.00      0.00         1\n",
      "   confirmation request       0.00      0.00      0.00        11\n",
      "        contact details       0.00      0.00      0.00         9\n",
      "         data allowance       0.00      0.00      0.00         3\n",
      "         early check in       0.60      0.43      0.50        28\n",
      "  early luggage storage       0.68      0.42      0.52        31\n",
      "       electrical issue       0.00      0.00      0.00         1\n",
      "                  floor       0.00      0.00      0.00         5\n",
      "              follow up       0.00      0.00      0.00        13\n",
      "   food recommendations       0.00      0.00      0.00         4\n",
      "                garbage       0.00      0.00      0.00        10\n",
      "              hot water       0.00      0.00      0.00         1\n",
      "           how are you?       0.00      0.00      0.00         4\n",
      "          late check in       0.00      0.00      0.00         2\n",
      "         late check out       0.00      0.00      0.00        13\n",
      "   late luggage storage       0.00      0.00      0.00         5\n",
      "       local facilities       0.00      0.00      0.00         4\n",
      "              lock door       0.00      0.00      0.00         1\n",
      "             lost items       0.00      0.00      0.00         5\n",
      "        luggage storage       0.00      0.00      0.00         7\n",
      "           more details       0.00      0.00      0.00        16\n",
      "            negotiation       0.00      0.00      0.00         6\n",
      "                netflix       0.00      0.00      0.00         8\n",
      "            other rooms       0.00      0.00      0.00         5\n",
      "                 others       0.00      0.00      0.00        20\n",
      "                payment       0.33      0.11      0.17         9\n",
      "          portable wifi       0.62      0.53      0.57        15\n",
      "         power adapters       0.00      0.00      0.00         1\n",
      "   pre-approval request       0.00      0.00      0.00         2\n",
      "                 refund       0.00      0.00      0.00         4\n",
      "reservation adjustments       0.80      0.25      0.38        16\n",
      "      room availability       0.20      0.92      0.33        25\n",
      "           room inquiry       0.00      0.00      0.00         1\n",
      "            sightseeing       0.00      0.00      0.00         3\n",
      "                smoking       0.00      0.00      0.00         1\n",
      "        special request       0.00      0.00      0.00         3\n",
      "                 towels       0.00      0.00      0.00         7\n",
      "   transport directions       0.57      0.55      0.56        22\n",
      "       transport others       0.00      0.00      0.00        12\n",
      "        washing machine       0.00      0.00      0.00         6\n",
      "                weather       0.00      0.00      0.00         1\n",
      "                   wifi       0.00      0.00      0.00         6\n",
      "\n",
      "              micro avg       0.24      0.24      0.24       439\n",
      "              macro avg       0.07      0.08      0.06       439\n",
      "           weighted avg       0.19      0.24      0.17       439\n",
      "\n"
     ]
    },
    {
     "name": "stderr",
     "output_type": "stream",
     "text": [
      "/Users/yujihoshi/anaconda3/lib/python3.6/site-packages/sklearn/metrics/classification.py:1143: UndefinedMetricWarning: Precision and F-score are ill-defined and being set to 0.0 in labels with no predicted samples.\n",
      "  'precision', 'predicted', average, warn_for)\n"
     ]
    }
   ],
   "source": [
    "nb = Pipeline([('vect', CountVectorizer(tokenizer=LemmaTokenizer())),\n",
    "#               ('tfidf', TfidfTransformer()),\n",
    "               ('clf', MultinomialNB()),\n",
    "              ])\n",
    "nb.fit(X_train, y_train)\n",
    "\n",
    "y_pred = nb.predict(X_test)\n",
    "\n",
    "print('accuracy %s' % accuracy_score(y_pred, y_test))\n",
    "print(classification_report(y_test, y_pred))"
   ]
  },
  {
   "cell_type": "code",
   "execution_count": 16,
   "metadata": {},
   "outputs": [
    {
     "name": "stdout",
     "output_type": "stream",
     "text": [
      "accuracy 0.5603644646924829\n",
      "                         precision    recall  f1-score   support\n",
      "\n",
      "           access issue       0.00      0.00      0.00         6\n",
      "                address       0.83      0.62      0.71         8\n",
      "    airbnb policy japan       0.50      0.38      0.43         8\n",
      "             ammenities       0.50      0.78      0.61         9\n",
      "             appliances       0.75      0.30      0.43        10\n",
      "                   beds       0.80      0.67      0.73         6\n",
      "    building directions       0.00      0.00      0.00         4\n",
      "           cancellation       1.00      1.00      1.00         3\n",
      "       check in process       0.44      0.77      0.56        31\n",
      "      check out process       0.00      0.00      0.00         4\n",
      "                chinese       1.00      0.50      0.67         2\n",
      "               cleaning       0.00      0.00      0.00         1\n",
      "         cleaning issue       0.00      0.00      0.00         1\n",
      "   confirmation request       0.43      0.27      0.33        11\n",
      "        contact details       0.71      0.56      0.63         9\n",
      "         data allowance       0.50      0.33      0.40         3\n",
      "         early check in       0.71      0.71      0.71        28\n",
      "  early luggage storage       0.56      0.77      0.65        31\n",
      "       electrical issue       0.00      0.00      0.00         1\n",
      "                  floor       1.00      1.00      1.00         5\n",
      "              follow up       0.33      0.31      0.32        13\n",
      "   food recommendations       0.50      0.25      0.33         4\n",
      "                garbage       0.80      0.80      0.80        10\n",
      "              hot water       0.00      0.00      0.00         1\n",
      "           how are you?       0.00      0.00      0.00         4\n",
      "          late check in       0.00      0.00      0.00         2\n",
      "         late check out       0.79      0.85      0.81        13\n",
      "   late luggage storage       0.20      0.20      0.20         5\n",
      "       local facilities       0.33      0.25      0.29         4\n",
      "              lock door       0.00      0.00      0.00         1\n",
      "             lost items       1.00      0.20      0.33         5\n",
      "        luggage storage       1.00      0.14      0.25         7\n",
      "           more details       0.53      0.56      0.55        16\n",
      "            negotiation       0.50      0.33      0.40         6\n",
      "                netflix       1.00      0.62      0.77         8\n",
      "            other rooms       0.00      0.00      0.00         5\n",
      "                 others       0.40      0.20      0.27        20\n",
      "                payment       0.67      0.44      0.53         9\n",
      "          portable wifi       0.57      0.87      0.68        15\n",
      "         power adapters       1.00      1.00      1.00         1\n",
      "   pre-approval request       1.00      0.50      0.67         2\n",
      "                 refund       0.80      1.00      0.89         4\n",
      "reservation adjustments       0.46      0.38      0.41        16\n",
      "      room availability       0.43      0.80      0.56        25\n",
      "           room inquiry       0.00      0.00      0.00         1\n",
      "            sightseeing       0.00      0.00      0.00         3\n",
      "                smoking       0.00      0.00      0.00         1\n",
      "        special request       0.00      0.00      0.00         3\n",
      "                 towels       1.00      1.00      1.00         7\n",
      "   transport directions       0.56      0.91      0.69        22\n",
      "       transport others       0.40      0.50      0.44        12\n",
      "        washing machine       0.71      0.83      0.77         6\n",
      "                  water       0.00      0.00      0.00         0\n",
      "                weather       0.00      0.00      0.00         1\n",
      "                   wifi       0.60      0.50      0.55         6\n",
      "\n",
      "              micro avg       0.56      0.56      0.56       439\n",
      "              macro avg       0.46      0.40      0.41       439\n",
      "           weighted avg       0.54      0.56      0.52       439\n",
      "\n"
     ]
    }
   ],
   "source": [
    "sgd = Pipeline([('vect', CountVectorizer(tokenizer=LemmaTokenizer())),\n",
    "                ('tfidf', TfidfTransformer()),\n",
    "                ('clf', SGDClassifier(loss='hinge', penalty='l2', alpha=1e-3, random_state=42, max_iter=6)),\n",
    "               ])\n",
    "\n",
    "sgd.fit(X_train, y_train)\n",
    "\n",
    "y_pred = sgd.predict(X_test)\n",
    "\n",
    "print('accuracy %s' % accuracy_score(y_pred, y_test))\n",
    "print(classification_report(y_test, y_pred))"
   ]
  },
  {
   "cell_type": "code",
   "execution_count": 17,
   "metadata": {},
   "outputs": [
    {
     "name": "stderr",
     "output_type": "stream",
     "text": [
      "/Users/yujihoshi/anaconda3/lib/python3.6/site-packages/sklearn/linear_model/logistic.py:433: FutureWarning: Default solver will be changed to 'lbfgs' in 0.22. Specify a solver to silence this warning.\n",
      "  FutureWarning)\n",
      "/Users/yujihoshi/anaconda3/lib/python3.6/site-packages/sklearn/linear_model/logistic.py:460: FutureWarning: Default multi_class will be changed to 'auto' in 0.22. Specify the multi_class option to silence this warning.\n",
      "  \"this warning.\", FutureWarning)\n"
     ]
    },
    {
     "name": "stdout",
     "output_type": "stream",
     "text": [
      "accuracy 0.530751708428246\n",
      "                         precision    recall  f1-score   support\n",
      "\n",
      "           access issue       0.40      0.33      0.36         6\n",
      "                address       1.00      0.50      0.67         8\n",
      "    airbnb policy japan       0.50      0.25      0.33         8\n",
      "             ammenities       0.54      0.78      0.64         9\n",
      "             appliances       0.50      0.10      0.17        10\n",
      "                   beds       1.00      0.33      0.50         6\n",
      "    building directions       0.00      0.00      0.00         4\n",
      "           cancellation       1.00      0.33      0.50         3\n",
      "       check in process       0.37      0.68      0.48        31\n",
      "      check out process       1.00      0.25      0.40         4\n",
      "                chinese       0.00      0.00      0.00         2\n",
      "               cleaning       0.00      0.00      0.00         1\n",
      "         cleaning issue       0.00      0.00      0.00         1\n",
      "   confirmation request       0.50      0.45      0.48        11\n",
      "        contact details       0.62      0.56      0.59         9\n",
      "         data allowance       0.00      0.00      0.00         3\n",
      "         early check in       0.73      0.68      0.70        28\n",
      "  early luggage storage       0.69      0.77      0.73        31\n",
      "       electrical issue       0.00      0.00      0.00         1\n",
      "                  floor       1.00      0.80      0.89         5\n",
      "              follow up       0.55      0.46      0.50        13\n",
      "   food recommendations       0.00      0.00      0.00         4\n",
      "                garbage       0.89      0.80      0.84        10\n",
      "              hot water       0.00      0.00      0.00         1\n",
      "           how are you?       0.00      0.00      0.00         4\n",
      "          late check in       1.00      0.50      0.67         2\n",
      "         late check out       0.85      0.85      0.85        13\n",
      "   late luggage storage       0.17      0.20      0.18         5\n",
      "       local facilities       1.00      0.25      0.40         4\n",
      "              lock door       0.00      0.00      0.00         1\n",
      "             lost items       0.00      0.00      0.00         5\n",
      "        luggage storage       0.33      0.14      0.20         7\n",
      "           more details       0.33      0.44      0.38        16\n",
      "            negotiation       0.33      0.33      0.33         6\n",
      "                netflix       1.00      0.38      0.55         8\n",
      "            other rooms       0.00      0.00      0.00         5\n",
      "                 others       0.33      0.45      0.38        20\n",
      "                payment       1.00      0.33      0.50         9\n",
      "          portable wifi       0.73      0.73      0.73        15\n",
      "         power adapters       1.00      1.00      1.00         1\n",
      "   pre-approval request       1.00      0.50      0.67         2\n",
      "                 refund       0.67      0.50      0.57         4\n",
      "reservation adjustments       0.39      0.44      0.41        16\n",
      "      room availability       0.42      0.88      0.56        25\n",
      "           room inquiry       0.00      0.00      0.00         1\n",
      "             room issue       0.00      0.00      0.00         0\n",
      "            sightseeing       0.00      0.00      0.00         3\n",
      "                smoking       0.00      0.00      0.00         1\n",
      "        special request       1.00      0.33      0.50         3\n",
      "                 towels       1.00      0.86      0.92         7\n",
      "   transport directions       0.50      0.82      0.62        22\n",
      "       transport others       0.40      0.33      0.36        12\n",
      "        washing machine       0.83      0.83      0.83         6\n",
      "                weather       0.00      0.00      0.00         1\n",
      "                   wifi       0.50      0.67      0.57         6\n",
      "\n",
      "              micro avg       0.53      0.53      0.53       439\n",
      "              macro avg       0.47      0.36      0.38       439\n",
      "           weighted avg       0.55      0.53      0.51       439\n",
      "\n"
     ]
    }
   ],
   "source": [
    "logreg = Pipeline([('vect', CountVectorizer()),\n",
    "                ('tfidf', TfidfTransformer()),\n",
    "                ('clf', LogisticRegression(n_jobs=1, C=300)),\n",
    "               ])\n",
    "logreg.fit(X_train, y_train)\n",
    "\n",
    "y_pred = logreg.predict(X_test)\n",
    "\n",
    "print('accuracy %s' % accuracy_score(y_pred, y_test))\n",
    "print(classification_report(y_test, y_pred))"
   ]
  },
  {
   "cell_type": "code",
   "execution_count": 18,
   "metadata": {},
   "outputs": [
    {
     "data": {
      "text/plain": [
       "array(['food recommendations'], dtype='<U23')"
      ]
     },
     "execution_count": 18,
     "metadata": {},
     "output_type": "execute_result"
    }
   ],
   "source": [
    "sgd.predict([\"can you recommend any restaurants nearby?\"])"
   ]
  },
  {
   "cell_type": "code",
   "execution_count": 19,
   "metadata": {},
   "outputs": [
    {
     "data": {
      "text/plain": [
       "array(['early luggage storage'], dtype='<U23')"
      ]
     },
     "execution_count": 19,
     "metadata": {},
     "output_type": "execute_result"
    }
   ],
   "source": [
    "sgd.predict([\"I will be arriving earlier. Can I leave my bags before 3pm?\"])"
   ]
  },
  {
   "cell_type": "code",
   "execution_count": 20,
   "metadata": {},
   "outputs": [
    {
     "data": {
      "text/plain": [
       "array(['chinese'], dtype='<U23')"
      ]
     },
     "execution_count": 20,
     "metadata": {},
     "output_type": "execute_result"
    }
   ],
   "source": [
    "sgd.predict([\"can you speak chinese?\"])"
   ]
  },
  {
   "cell_type": "code",
   "execution_count": 21,
   "metadata": {},
   "outputs": [
    {
     "data": {
      "text/plain": [
       "array(['early check in'], dtype='<U23')"
      ]
     },
     "execution_count": 21,
     "metadata": {},
     "output_type": "execute_result"
    }
   ],
   "source": [
    "sgd.predict([\"I will be arriving earlier. Can I check in early?\"])"
   ]
  },
  {
   "cell_type": "code",
   "execution_count": 22,
   "metadata": {},
   "outputs": [
    {
     "data": {
      "text/plain": [
       "array(['transport directions'], dtype='<U23')"
      ]
     },
     "execution_count": 22,
     "metadata": {},
     "output_type": "execute_result"
    }
   ],
   "source": [
    "sgd.predict([\"how do i get to your place from Haneda Airport?\"])"
   ]
  },
  {
   "cell_type": "code",
   "execution_count": 23,
   "metadata": {},
   "outputs": [],
   "source": [
    "from sklearn.ensemble import GradientBoostingClassifier\n",
    "from sklearn.gaussian_process import GaussianProcessClassifier #(setting multi_class = “one_vs_rest”)\n",
    "from sklearn.svm import LinearSVC #(setting multi_class=”ovr”)\n",
    "from sklearn.linear_model import LogisticRegressionCV, Perceptron, PassiveAggressiveClassifier"
   ]
  },
  {
   "cell_type": "code",
   "execution_count": 24,
   "metadata": {},
   "outputs": [
    {
     "name": "stdout",
     "output_type": "stream",
     "text": [
      "accuracy 0.3895216400911162\n",
      "                         precision    recall  f1-score   support\n",
      "\n",
      "           access issue       0.50      0.33      0.40         6\n",
      "                address       0.75      0.38      0.50         8\n",
      "    airbnb policy japan       1.00      0.12      0.22         8\n",
      "             ammenities       0.33      0.22      0.27         9\n",
      "             appliances       0.50      0.30      0.37        10\n",
      "                   beds       1.00      0.50      0.67         6\n",
      "    building directions       0.00      0.00      0.00         4\n",
      "           cancellation       0.00      0.00      0.00         3\n",
      "       check in process       0.14      0.71      0.24        31\n",
      "      check out process       0.38      0.75      0.50         4\n",
      "                chinese       0.00      0.00      0.00         2\n",
      "               cleaning       0.00      0.00      0.00         1\n",
      "         cleaning issue       0.00      0.00      0.00         1\n",
      "   confirmation request       0.17      0.09      0.12        11\n",
      "        contact details       1.00      0.33      0.50         9\n",
      "         data allowance       0.33      0.33      0.33         3\n",
      "         early check in       0.72      0.46      0.57        28\n",
      "  early luggage storage       0.79      0.61      0.69        31\n",
      "       electrical issue       0.00      0.00      0.00         1\n",
      "                  floor       1.00      0.80      0.89         5\n",
      "              follow up       0.57      0.31      0.40        13\n",
      "   food recommendations       1.00      0.25      0.40         4\n",
      "                garbage       0.88      0.70      0.78        10\n",
      "              hot water       0.00      0.00      0.00         1\n",
      "           how are you?       0.00      0.00      0.00         4\n",
      "          late check in       0.00      0.00      0.00         2\n",
      "         late check out       0.58      0.54      0.56        13\n",
      "   late luggage storage       0.17      0.20      0.18         5\n",
      "       local facilities       0.50      0.25      0.33         4\n",
      "              lock door       0.00      0.00      0.00         1\n",
      "             lost items       1.00      0.20      0.33         5\n",
      "       luggage delivery       0.00      0.00      0.00         0\n",
      "        luggage storage       1.00      0.14      0.25         7\n",
      "           more details       0.33      0.12      0.18        16\n",
      "            negotiation       0.75      0.50      0.60         6\n",
      "                netflix       1.00      0.12      0.22         8\n",
      "            other rooms       0.00      0.00      0.00         5\n",
      "                 others       0.17      0.05      0.08        20\n",
      "                payment       0.60      0.33      0.43         9\n",
      "          portable wifi       0.67      0.80      0.73        15\n",
      "         power adapters       1.00      1.00      1.00         1\n",
      "   pre-approval request       1.00      0.50      0.67         2\n",
      "                 refund       0.50      1.00      0.67         4\n",
      "reservation adjustments       0.23      0.19      0.21        16\n",
      "      room availability       0.26      0.32      0.29        25\n",
      "           room inquiry       0.00      0.00      0.00         1\n",
      "             room issue       0.00      0.00      0.00         0\n",
      "            sightseeing       0.00      0.00      0.00         3\n",
      "                smoking       0.00      0.00      0.00         1\n",
      "        special request       0.50      0.33      0.40         3\n",
      "                 towels       1.00      0.57      0.73         7\n",
      "   transport directions       0.41      0.64      0.50        22\n",
      "       transport others       0.57      0.33      0.42        12\n",
      "        washing machine       1.00      0.67      0.80         6\n",
      "                weather       1.00      1.00      1.00         1\n",
      "                   wifi       0.25      0.17      0.20         6\n",
      "\n",
      "              micro avg       0.39      0.39      0.39       439\n",
      "              macro avg       0.46      0.31      0.33       439\n",
      "           weighted avg       0.51      0.39      0.39       439\n",
      "\n"
     ]
    }
   ],
   "source": [
    "grad = Pipeline([('vect', CountVectorizer()),\n",
    "                ('tfidf', TfidfTransformer()),\n",
    "                ('clf', GradientBoostingClassifier()),\n",
    "               ])\n",
    "grad.fit(X_train, y_train)\n",
    "\n",
    "y_pred = grad.predict(X_test)\n",
    "\n",
    "print('accuracy %s' % accuracy_score(y_pred, y_test))\n",
    "print(classification_report(y_test, y_pred))"
   ]
  },
  {
   "cell_type": "code",
   "execution_count": 25,
   "metadata": {},
   "outputs": [],
   "source": [
    "labels = questions.classification.value_counts().head(6).keys()"
   ]
  },
  {
   "cell_type": "code",
   "execution_count": 26,
   "metadata": {},
   "outputs": [
    {
     "name": "stdout",
     "output_type": "stream",
     "text": [
      "accuracy 0.5763097949886105\n",
      "                         precision    recall  f1-score   support\n",
      "\n",
      "           access issue       0.33      0.17      0.22         6\n",
      "                address       0.83      0.62      0.71         8\n",
      "    airbnb policy japan       0.50      0.25      0.33         8\n",
      "             ammenities       0.64      0.78      0.70         9\n",
      "             appliances       0.75      0.30      0.43        10\n",
      "                   beds       1.00      0.50      0.67         6\n",
      "    building directions       0.00      0.00      0.00         4\n",
      "           cancellation       1.00      1.00      1.00         3\n",
      "       check in process       0.43      0.71      0.54        31\n",
      "      check out process       0.50      0.25      0.33         4\n",
      "                chinese       1.00      0.50      0.67         2\n",
      "               cleaning       0.00      0.00      0.00         1\n",
      "         cleaning issue       0.00      0.00      0.00         1\n",
      "   confirmation request       0.56      0.45      0.50        11\n",
      "        contact details       0.71      0.56      0.63         9\n",
      "         data allowance       0.50      0.33      0.40         3\n",
      "         early check in       0.78      0.75      0.76        28\n",
      "  early luggage storage       0.63      0.77      0.70        31\n",
      "       electrical issue       0.00      0.00      0.00         1\n",
      "                  floor       1.00      0.80      0.89         5\n",
      "              follow up       0.50      0.54      0.52        13\n",
      "   food recommendations       1.00      0.25      0.40         4\n",
      "                garbage       0.80      0.80      0.80        10\n",
      "              hot water       0.00      0.00      0.00         1\n",
      "           how are you?       0.00      0.00      0.00         4\n",
      "          late check in       1.00      0.50      0.67         2\n",
      "         late check out       0.85      0.85      0.85        13\n",
      "   late luggage storage       0.33      0.40      0.36         5\n",
      "       local facilities       0.50      0.25      0.33         4\n",
      "              lock door       0.00      0.00      0.00         1\n",
      "             lost items       1.00      0.20      0.33         5\n",
      "        luggage storage       0.33      0.14      0.20         7\n",
      "           more details       0.53      0.56      0.55        16\n",
      "            negotiation       0.33      0.33      0.33         6\n",
      "                netflix       1.00      0.62      0.77         8\n",
      "            other rooms       0.00      0.00      0.00         5\n",
      "                 others       0.40      0.30      0.34        20\n",
      "                payment       0.75      0.33      0.46         9\n",
      "          portable wifi       0.79      0.73      0.76        15\n",
      "         power adapters       1.00      1.00      1.00         1\n",
      "   pre-approval request       1.00      0.50      0.67         2\n",
      "                 refund       0.75      0.75      0.75         4\n",
      "reservation adjustments       0.37      0.44      0.40        16\n",
      "      room availability       0.42      0.88      0.57        25\n",
      "           room inquiry       0.00      0.00      0.00         1\n",
      "            sightseeing       0.00      0.00      0.00         3\n",
      "                smoking       0.00      0.00      0.00         1\n",
      "        special request       1.00      0.33      0.50         3\n",
      "                 towels       1.00      1.00      1.00         7\n",
      "   transport directions       0.53      0.86      0.66        22\n",
      "       transport others       0.40      0.33      0.36        12\n",
      "        washing machine       0.86      1.00      0.92         6\n",
      "                  water       0.00      0.00      0.00         0\n",
      "                weather       1.00      1.00      1.00         1\n",
      "                   wifi       0.50      0.67      0.57         6\n",
      "\n",
      "              micro avg       0.58      0.58      0.58       439\n",
      "              macro avg       0.55      0.44      0.46       439\n",
      "           weighted avg       0.59      0.58      0.56       439\n",
      "\n"
     ]
    }
   ],
   "source": [
    "svm = Pipeline([('vect', CountVectorizer()),\n",
    "                ('tfidf', TfidfTransformer()),\n",
    "                ('clf', LinearSVC()),\n",
    "               ])\n",
    "svm.fit(X_train, y_train)\n",
    "\n",
    "y_pred = svm.predict(X_test)\n",
    "\n",
    "print('accuracy %s' % accuracy_score(y_pred, y_test))\n",
    "print(classification_report(y_test, y_pred))"
   ]
  },
  {
   "cell_type": "code",
   "execution_count": null,
   "metadata": {},
   "outputs": [],
   "source": []
  },
  {
   "cell_type": "code",
   "execution_count": 27,
   "metadata": {},
   "outputs": [
    {
     "name": "stdout",
     "output_type": "stream",
     "text": [
      "accuracy 0.4533029612756264\n",
      "                         precision    recall  f1-score   support\n",
      "\n",
      "           access issue       0.29      0.33      0.31         6\n",
      "                address       0.67      0.75      0.71         8\n",
      "    airbnb policy japan       0.67      0.25      0.36         8\n",
      "             ammenities       0.67      0.67      0.67         9\n",
      "             appliances       1.00      0.20      0.33        10\n",
      "                   beds       1.00      0.33      0.50         6\n",
      "    building directions       0.00      0.00      0.00         4\n",
      "           cancellation       1.00      0.67      0.80         3\n",
      "       check in process       0.51      0.61      0.56        31\n",
      "      check out process       0.00      0.00      0.00         4\n",
      "                chinese       0.33      0.50      0.40         2\n",
      "                cleaner       0.00      0.00      0.00         0\n",
      "               cleaning       0.50      1.00      0.67         1\n",
      "         cleaning issue       0.00      0.00      0.00         1\n",
      "   confirmation request       0.67      0.18      0.29        11\n",
      "        contact details       0.57      0.44      0.50         9\n",
      "         data allowance       1.00      0.33      0.50         3\n",
      "         early check in       0.64      0.57      0.60        28\n",
      "  early luggage storage       0.65      0.42      0.51        31\n",
      "       electrical issue       0.00      0.00      0.00         1\n",
      "               elevator       0.00      0.00      0.00         0\n",
      "                  floor       1.00      1.00      1.00         5\n",
      "              follow up       0.50      0.46      0.48        13\n",
      "   food recommendations       1.00      0.50      0.67         4\n",
      "                garbage       0.62      0.80      0.70        10\n",
      "              hot water       0.00      0.00      0.00         1\n",
      "           how are you?       0.00      0.00      0.00         4\n",
      "               japanese       0.00      0.00      0.00         0\n",
      "          late check in       0.00      0.00      0.00         2\n",
      "         late check out       0.92      0.85      0.88        13\n",
      "   late luggage storage       0.00      0.00      0.00         5\n",
      "       local facilities       0.25      0.25      0.25         4\n",
      "           lock battery       0.00      0.00      0.00         0\n",
      "              lock door       0.00      0.00      0.00         1\n",
      "             lost items       0.50      0.40      0.44         5\n",
      "       luggage delivery       0.00      0.00      0.00         0\n",
      "        luggage storage       0.25      0.14      0.18         7\n",
      "                   meet       0.00      0.00      0.00         0\n",
      "           more details       0.27      0.25      0.26        16\n",
      "            negotiation       0.67      0.33      0.44         6\n",
      "                netflix       0.57      0.50      0.53         8\n",
      "     other accomodation       0.00      0.00      0.00         0\n",
      "            other rooms       0.00      0.00      0.00         5\n",
      "                 others       0.56      0.25      0.34        20\n",
      "                payment       0.11      0.11      0.11         9\n",
      "          portable wifi       0.73      0.73      0.73        15\n",
      "         power adapters       0.00      0.00      0.00         1\n",
      "   pre-approval request       1.00      0.50      0.67         2\n",
      "                 refund       0.67      0.50      0.57         4\n",
      "            replacement       0.00      0.00      0.00         0\n",
      "reservation adjustments       0.40      0.38      0.39        16\n",
      "      room availability       0.43      0.48      0.45        25\n",
      "           room inquiry       0.00      0.00      0.00         1\n",
      "             room issue       0.00      0.00      0.00         0\n",
      "            sightseeing       0.25      0.33      0.29         3\n",
      "                smoking       0.00      0.00      0.00         1\n",
      "        special request       0.00      0.00      0.00         3\n",
      "                 towels       1.00      0.57      0.73         7\n",
      "            transformer       0.00      0.00      0.00         0\n",
      "   transport directions       0.67      0.73      0.70        22\n",
      "       transport others       0.42      0.42      0.42        12\n",
      "                     tv       0.00      0.00      0.00         0\n",
      "        washing machine       0.80      0.67      0.73         6\n",
      "                  water       0.00      0.00      0.00         0\n",
      "                weather       0.08      1.00      0.15         1\n",
      "                   wifi       0.71      0.83      0.77         6\n",
      "\n",
      "              micro avg       0.45      0.45      0.45       439\n",
      "              macro avg       0.37      0.31      0.31       439\n",
      "           weighted avg       0.55      0.45      0.48       439\n",
      "\n"
     ]
    },
    {
     "name": "stderr",
     "output_type": "stream",
     "text": [
      "/Users/yujihoshi/anaconda3/lib/python3.6/site-packages/sklearn/linear_model/stochastic_gradient.py:166: FutureWarning: max_iter and tol parameters have been added in Perceptron in 0.19. If both are left unset, they default to max_iter=5 and tol=None. If tol is not None, max_iter defaults to max_iter=1000. From 0.21, default max_iter will be 1000, and default tol will be 1e-3.\n",
      "  FutureWarning)\n"
     ]
    }
   ],
   "source": [
    "perc = Pipeline([('vect', CountVectorizer()),\n",
    "                ('tfidf', TfidfTransformer()),\n",
    "                ('clf', Perceptron()),\n",
    "               ])\n",
    "perc.fit(X_train, y_train)\n",
    "\n",
    "y_pred = perc.predict(X_test)\n",
    "\n",
    "print('accuracy %s' % accuracy_score(y_pred, y_test))\n",
    "print(classification_report(y_test, y_pred))"
   ]
  },
  {
   "cell_type": "code",
   "execution_count": 28,
   "metadata": {},
   "outputs": [
    {
     "name": "stderr",
     "output_type": "stream",
     "text": [
      "/Users/yujihoshi/anaconda3/lib/python3.6/site-packages/sklearn/linear_model/stochastic_gradient.py:166: FutureWarning: max_iter and tol parameters have been added in PassiveAggressiveClassifier in 0.19. If both are left unset, they default to max_iter=5 and tol=None. If tol is not None, max_iter defaults to max_iter=1000. From 0.21, default max_iter will be 1000, and default tol will be 1e-3.\n",
      "  FutureWarning)\n"
     ]
    },
    {
     "name": "stdout",
     "output_type": "stream",
     "text": [
      "accuracy 0.5375854214123007\n",
      "                         precision    recall  f1-score   support\n",
      "\n",
      "           access issue       0.50      0.33      0.40         6\n",
      "                address       0.80      0.50      0.62         8\n",
      "    airbnb policy japan       0.40      0.25      0.31         8\n",
      "             ammenities       0.64      0.78      0.70         9\n",
      "             appliances       1.00      0.20      0.33        10\n",
      "                   beds       1.00      0.33      0.50         6\n",
      "    building directions       0.00      0.00      0.00         4\n",
      "           cancellation       1.00      1.00      1.00         3\n",
      "       check in process       0.43      0.68      0.53        31\n",
      "      check out process       0.67      0.50      0.57         4\n",
      "                chinese       1.00      0.50      0.67         2\n",
      "               cleaning       1.00      1.00      1.00         1\n",
      "         cleaning issue       0.00      0.00      0.00         1\n",
      "   confirmation request       0.43      0.27      0.33        11\n",
      "        contact details       0.83      0.56      0.67         9\n",
      "         data allowance       0.00      0.00      0.00         3\n",
      "         early check in       0.70      0.57      0.63        28\n",
      "  early luggage storage       0.61      0.71      0.66        31\n",
      "       electrical issue       0.00      0.00      0.00         1\n",
      "                  floor       1.00      0.80      0.89         5\n",
      "              follow up       0.55      0.46      0.50        13\n",
      "   food recommendations       1.00      0.25      0.40         4\n",
      "                garbage       0.80      0.80      0.80        10\n",
      "              hot water       0.00      0.00      0.00         1\n",
      "           how are you?       0.00      0.00      0.00         4\n",
      "          late check in       0.50      0.50      0.50         2\n",
      "         late check out       0.85      0.85      0.85        13\n",
      "   late luggage storage       0.14      0.20      0.17         5\n",
      "       local facilities       1.00      0.25      0.40         4\n",
      "              lock door       0.00      0.00      0.00         1\n",
      "             lost items       1.00      0.20      0.33         5\n",
      "       luggage delivery       0.00      0.00      0.00         0\n",
      "        luggage storage       0.33      0.14      0.20         7\n",
      "                   meet       0.00      0.00      0.00         0\n",
      "           more details       0.39      0.44      0.41        16\n",
      "            negotiation       0.33      0.33      0.33         6\n",
      "                netflix       1.00      0.38      0.55         8\n",
      "            other rooms       0.00      0.00      0.00         5\n",
      "                 others       0.38      0.30      0.33        20\n",
      "                payment       0.67      0.44      0.53         9\n",
      "          portable wifi       0.65      0.73      0.69        15\n",
      "         power adapters       1.00      1.00      1.00         1\n",
      "   pre-approval request       1.00      0.50      0.67         2\n",
      "                 refund       0.67      0.50      0.57         4\n",
      "reservation adjustments       0.40      0.50      0.44        16\n",
      "      room availability       0.42      0.88      0.57        25\n",
      "           room inquiry       0.00      0.00      0.00         1\n",
      "             room issue       0.00      0.00      0.00         0\n",
      "            sightseeing       1.00      0.33      0.50         3\n",
      "                smoking       0.00      0.00      0.00         1\n",
      "        special request       1.00      0.33      0.50         3\n",
      "                 towels       1.00      1.00      1.00         7\n",
      "   transport directions       0.49      0.86      0.62        22\n",
      "       transport others       0.27      0.25      0.26        12\n",
      "        washing machine       0.86      1.00      0.92         6\n",
      "                weather       0.00      0.00      0.00         1\n",
      "                   wifi       0.44      0.67      0.53         6\n",
      "\n",
      "              micro avg       0.54      0.54      0.54       439\n",
      "              macro avg       0.53      0.40      0.43       439\n",
      "           weighted avg       0.57      0.54      0.52       439\n",
      "\n"
     ]
    }
   ],
   "source": [
    "\n",
    "\n",
    "pagc = Pipeline([('vect', CountVectorizer()),\n",
    "                ('tfidf', TfidfTransformer()),\n",
    "                ('clf', PassiveAggressiveClassifier()),\n",
    "               ])\n",
    "pagc.fit(X_train, y_train)\n",
    "\n",
    "y_pred = pagc.predict(X_test)\n",
    "\n",
    "print('accuracy %s' % accuracy_score(y_pred, y_test))\n",
    "print(classification_report(y_test, y_pred))"
   ]
  },
  {
   "cell_type": "code",
   "execution_count": 29,
   "metadata": {},
   "outputs": [],
   "source": [
    "faq = pd.read_csv('FAQ.txt', delimiter='\\t', encoding=\"utf-8\", header = None)\n",
    "faq = faq.set_index(0).to_dict()[1]"
   ]
  },
  {
   "cell_type": "code",
   "execution_count": 30,
   "metadata": {},
   "outputs": [
    {
     "name": "stdin",
     "output_type": "stream",
     "text": [
      "Enter a question:  how do i get to your place from the airport?\n"
     ]
    },
    {
     "name": "stdout",
     "output_type": "stream",
     "text": [
      "From Haneda Airport, take the Keikyu Line to Nihonbashi Station. Switch to the Tozai Line and head to Nakano Station.\n",
      "From Narita Airport, take the Narita Express to Tokyo Station. Switch to the JR Chuo Line and head to Nakano Station.\n"
     ]
    }
   ],
   "source": [
    "question = input(\"Enter a question: \")\n",
    "category = sgd.predict([question])\n",
    "output = faq[category[0]]\n",
    "print(output)"
   ]
  },
  {
   "cell_type": "code",
   "execution_count": 103,
   "metadata": {},
   "outputs": [
    {
     "data": {
      "text/plain": [
       "'Please provide a phone number I can contact you on.'"
      ]
     },
     "execution_count": 103,
     "metadata": {},
     "output_type": "execute_result"
    }
   ],
   "source": [
    "faq['access issue']"
   ]
  }
 ],
 "metadata": {
  "kernelspec": {
   "display_name": "Python 3",
   "language": "python",
   "name": "python3"
  },
  "language_info": {
   "codemirror_mode": {
    "name": "ipython",
    "version": 3
   },
   "file_extension": ".py",
   "mimetype": "text/x-python",
   "name": "python",
   "nbconvert_exporter": "python",
   "pygments_lexer": "ipython3",
   "version": "3.6.8"
  }
 },
 "nbformat": 4,
 "nbformat_minor": 2
}
